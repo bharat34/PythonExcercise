{
 "cells": [
  {
   "cell_type": "markdown",
   "metadata": {},
   "source": [
    "This program takes a DNA sequence calculates the reverse complement of the DNA, \n",
    "and then calculates all the ORFs in both the input (+) DNA string and \n",
    "the reverse complement (-) string"
   ]
  },
  {
   "cell_type": "code",
   "execution_count": 2,
   "metadata": {},
   "outputs": [],
   "source": [
    "def all_indices(value, qlist):\n",
    "    indices = []\n",
    "    idx = -1\n",
    "    while True:\n",
    "        try:\n",
    "            idx = qlist.index(value, idx+1)\n",
    "            indices.append(idx)\n",
    "        except ValueError:\n",
    "            break\n",
    "    return indices\n",
    "\n",
    "def findorfs(DNA):\n",
    "    orf=[]\n",
    "    start_ATG=all_indices(\"ATG\",DNA);\n",
    "    end_TAA=all_indices(\"TAA\",DNA);\n",
    "    end_TAG=all_indices(\"TAG\",DNA);\n",
    "    end_TGA=all_indices(\"TGA\",DNA);\n",
    "    All_stop=sorted(end_TAA+end_TAG+end_TGA);\n",
    "    \n",
    "    for i in start_ATG:\n",
    "        flag=0;\n",
    "        for j in All_stop:\n",
    "            if(flag==1):\n",
    "                break\n",
    "            elif(((((j+2)-i)+1)%3==0) and (j>i)):\n",
    "                orf.append((i,j+3))\n",
    "                flag=1;\n",
    "    return orf\n",
    "\n",
    "def complement(dna):\n",
    "    swap={'A':'T','T':'A','G':'C','C':'G'};\n",
    "    newdna='';\n",
    "    for nu in dna:\n",
    "        newdna+=swap[nu]\n",
    "    return newdna;\n",
    "\n",
    "\n",
    "def reverse(dna):\n",
    "    return dna[::-1];\n",
    "\n",
    "def transcribe(dna):\n",
    "    return dna.replace('T','U');\n",
    "\n",
    "def translate(rna):\n",
    "    mRNA=(rna.upper()).replace('T','U');\n",
    "    tr_mRNA='';\n",
    "    dict={'UUU':'F', 'UCU':'S', 'UAU':'Y', 'UGU':'C', 'UUC':'F', 'UCC':'S', \n",
    "'UAC':'Y', 'UGC':'C', 'UUA':'L', 'UCA':'S', 'UAA':'.', 'UGA':'.', 'UUG':'L', \n",
    "'UCG':'S', 'UAG':'.', 'UGG':'W', 'CUU':'L', 'CCU':'P', 'CAU':'H', 'CGU':'R', \n",
    "'CUC':'L', 'CCC':'P', 'CAC':'H', 'CGC':'R', 'CUA':'L', 'CCA':'P', 'CAA':'Q', \n",
    "'CGA':'R', 'CUG':'L', 'CCG':'P', 'CAG':'Q', 'CGG':'R', 'AUU':'I', 'ACU':'U', \n",
    "'AAU':'N', 'AGU':'S', 'AUC':'I', 'ACC':'U', 'AAC':'N', 'AGC':'S', 'AUA':'I', \n",
    "'ACA':'U', 'AAA':'K', 'AGA':'R', 'AUG':'M', 'ACG':'U', 'AAG':'K', 'AGG':'R', \n",
    "'GUU':'V', 'GCU':'A', 'GAU':'D', 'GGU':'G', 'GUC':'V', 'GCC':'A', 'GAC':'D', \n",
    "'GGC':'G', 'GUA':'V', 'GCA':'A', 'GAA':'E', 'GGA':'G', 'GUG':'V', 'GCG':'A', \n",
    "'GAG':'E', 'GGG':'G',};\n",
    "    for i in range(0,len(mRNA),3):\n",
    "        tr_mRNA += dict[mRNA[i:i+3]];\n",
    "    return tr_mRNA;\n"
   ]
  },
  {
   "cell_type": "code",
   "execution_count": 29,
   "metadata": {},
   "outputs": [
    {
     "name": "stdout",
     "output_type": "stream",
     "text": [
      "+ 0 MAAAAAAAVUAMAAAAAAAAAAAAAAAAAAAAA\n",
      "+ 33 MAAAAAAAAAAAAAAAAAAAAA\n"
     ]
    }
   ],
   "source": [
    "DNA_U=\"ATGGCGGCGGCGGCGGCGGCGGCGGTAACGGCGATGGCGGCGGCGGCGGCGGCGGCGGCGGCGGCGGCGGCGGCGGCGGCGGCGGCGGCGGCGGCGGCGTAA\"\n",
    "\n",
    "orfs=findorfs(DNA_U);\n",
    "for i,j in orfs:\n",
    "    print (\"+\",i,translate(DNA_U[i:j-3]))\n",
    "\n",
    "DNA_comp_rev=(reverse(complement(DNA_U)));\n",
    "orfs=findorfs(DNA_comp_rev);\n",
    "for i,j in orfs:\n",
    "    print (\"-\",i,translate(DNA_comp_rev[i:j-3]))"
   ]
  },
  {
   "cell_type": "markdown",
   "metadata": {},
   "source": [
    "https://www.python-course.eu/lambda.php"
   ]
  },
  {
   "cell_type": "markdown",
   "metadata": {},
   "source": [
    "Lambda \n",
    "\n",
    "Some like it, others hate it and many are afraid of the lambda operator. We are confident that you will like it, when you have finished with this chapter of our tutorial. If not, you can learn all about \"List Comprehensions\", Guido van Rossums preferred way to do it, because he doesn't like Lambda, map, filter and reduce either. \n",
    "\n",
    "The lambda operator or lambda function is a way to create small anonymous functions, i.e. functions without a name. These functions are throw-away functions, i.e. they are just needed where they have been created. Lambda functions are mainly used in combination with the functions filter(), map() and reduce(). The lambda feature was added to Python due to the demand from Lisp programmers. \n",
    "\n",
    "The general syntax of a lambda function is quite simple:\n",
    "lambda argument_list: expression \n",
    "The argument list consists of a comma separated list of arguments and the expression is an arithmetic expression using these arguments. You can assign the function to a variable to give it a name. \n",
    "The following example of a lambda function returns the sum of its two arguments:\n",
    "\n",
    "f = lambda x, y : x + y\n",
    "\n",
    "f(1,1)\n",
    "\n",
    "2\n",
    "\n",
    "Filtering\n",
    "\n",
    "The function filter(function, list) offers an elegant way to filter out all the elements of a list, for which the function function returns True. \n",
    "The function filter(f,l) needs a function f as its first argument. f returns a Boolean value, i.e. either True or False. This function will be applied to every element of the list l. Only if f returns True will the element of the list be included in the result list."
   ]
  },
  {
   "cell_type": "code",
   "execution_count": 85,
   "metadata": {},
   "outputs": [],
   "source": [
    "def useOfLambdaFilteringMapReduce(nums):\n",
    "    nums=filter(lambda x:x not in [13,14],nums)\n",
    "    if not nums:\n",
    "        return 0\n",
    "    else:\n",
    "        return (reduce(lambda x,y: x+y,filter(lambda x: x not in [13,14],nums)))"
   ]
  },
  {
   "cell_type": "code",
   "execution_count": 57,
   "metadata": {},
   "outputs": [
    {
     "data": {
      "text/plain": [
       "24"
      ]
     },
     "execution_count": 57,
     "metadata": {},
     "output_type": "execute_result"
    }
   ],
   "source": [
    "useOfLambdaFilteringMapReduce([0,1,3,4,13,14,16])"
   ]
  },
  {
   "cell_type": "markdown",
   "metadata": {},
   "source": [
    "Use Of reduce function in python"
   ]
  },
  {
   "cell_type": "code",
   "execution_count": 41,
   "metadata": {},
   "outputs": [
    {
     "data": {
      "text/plain": [
       "113"
      ]
     },
     "execution_count": 41,
     "metadata": {},
     "output_type": "execute_result"
    }
   ],
   "source": [
    "from functools import reduce\n",
    "reduce(lambda x,y: x+y, [47,11,42,13])"
   ]
  },
  {
   "cell_type": "markdown",
   "metadata": {},
   "source": [
    "simple function for calculating temperature in fahrenheit and celsius"
   ]
  },
  {
   "cell_type": "code",
   "execution_count": 36,
   "metadata": {},
   "outputs": [],
   "source": [
    "def fahrenheitVer1(T):\n",
    "    return ((float(9)/5)*T + 32)\n",
    "def celsiusVer1(T):\n",
    "    return (float(5)/9)*(T-32)"
   ]
  },
  {
   "cell_type": "code",
   "execution_count": null,
   "metadata": {},
   "outputs": [],
   "source": []
  },
  {
   "cell_type": "code",
   "execution_count": 44,
   "metadata": {},
   "outputs": [],
   "source": [
    "temperatures = (36.5, 37, 37.5, 38, 39)\n",
    "temperatures_in_Fahrenheit = list(map(fahrenheit, temperatures))\n",
    "temperatures_in_Celsius = list(map(celsius, temperatures_in_Fahrenheit))"
   ]
  },
  {
   "cell_type": "markdown",
   "metadata": {},
   "source": [
    "The advantage of the lambda operator can be seen when it is used in combination with the map() function. \n",
    "map() is a function with two arguments:\n",
    "\n",
    "r = map(func, seq)\n",
    "\n",
    "The first argument func is the name of a function and the second a sequence (e.g. a list) seq. map() applies the function func to all the elements of the sequence seq. It returns a new list with the elements changed by func"
   ]
  },
  {
   "cell_type": "code",
   "execution_count": 48,
   "metadata": {},
   "outputs": [
    {
     "data": {
      "text/plain": [
       "[97.7, 98.60000000000001, 99.5, 100.4, 102.2]"
      ]
     },
     "execution_count": 48,
     "metadata": {},
     "output_type": "execute_result"
    }
   ],
   "source": [
    "def fahrenheitVer2(T):\n",
    "    return list(map(lambda x: ((float(9)/5)*x + 32),T))\n",
    "fahrenheitVer2(temperatures)"
   ]
  },
  {
   "cell_type": "code",
   "execution_count": 43,
   "metadata": {},
   "outputs": [
    {
     "data": {
      "text/plain": [
       "113"
      ]
     },
     "execution_count": 43,
     "metadata": {},
     "output_type": "execute_result"
    }
   ],
   "source": [
    "reduce(lambda x,y: x+y, [47,11,42,13])"
   ]
  },
  {
   "cell_type": "markdown",
   "metadata": {},
   "source": [
    "find all Caps word in a String"
   ]
  },
  {
   "cell_type": "code",
   "execution_count": 46,
   "metadata": {},
   "outputs": [],
   "source": [
    "def findAllCapsLower(myString):\n",
    "    return(''.join([i for i in word if i.isupper()] ) )"
   ]
  },
  {
   "cell_type": "markdown",
   "metadata": {},
   "source": [
    "Generating the Matrix\n",
    "\n",
    "We want to build a matrix of values, like a multiplication table. The output we want in this case should be a list of lists, like:\n",
    "\n",
    "[[1, 2, 3], [2, 4, 6], [3, 6, 9]]"
   ]
  },
  {
   "cell_type": "code",
   "execution_count": 47,
   "metadata": {},
   "outputs": [
    {
     "data": {
      "text/plain": [
       "'HLLWD'"
      ]
     },
     "execution_count": 47,
     "metadata": {},
     "output_type": "execute_result"
    }
   ],
   "source": [
    "findAllCapsLower('Hello WoRLD')"
   ]
  },
  {
   "cell_type": "markdown",
   "metadata": {},
   "source": [
    "Generating the Matrix\n",
    "\n",
    "We want to build a matrix of values, like a multiplication table. The output we want in this case should be a list of lists, like:"
   ]
  },
  {
   "cell_type": "code",
   "execution_count": 62,
   "metadata": {},
   "outputs": [],
   "source": [
    "def writeMatrixManipulator(myrange):\n",
    "    iterator = [i for i in range(1,myrange)]\n",
    "    return ([[x * y for y in iterator] for x in iterator])"
   ]
  },
  {
   "cell_type": "code",
   "execution_count": 63,
   "metadata": {},
   "outputs": [
    {
     "data": {
      "text/plain": [
       "[[1, 2, 3], [2, 4, 6], [3, 6, 9]]"
      ]
     },
     "execution_count": 63,
     "metadata": {},
     "output_type": "execute_result"
    }
   ],
   "source": [
    "writeMatrixManipulator(4)"
   ]
  },
  {
   "cell_type": "code",
   "execution_count": 69,
   "metadata": {},
   "outputs": [],
   "source": [
    "FibonacciList=[]\n",
    "checkRangeFlag=1\n",
    "def Fibonacci(Fibonaccirange):\n",
    "    if Fibonaccirange==0:\n",
    "        return 0\n",
    "    elif checkRangeFlag!=checkRangeFlag:\n",
    "        FibonacciList.append(0)\n",
    "        FibonacciList.append(1)\n",
    "    elif\n",
    "        FibonacciList.append(FibonacciList(-1)\n",
    "        return (FibonacciList)"
   ]
  },
  {
   "cell_type": "code",
   "execution_count": 70,
   "metadata": {},
   "outputs": [
    {
     "data": {
      "text/plain": [
       "[0, 1]"
      ]
     },
     "execution_count": 70,
     "metadata": {},
     "output_type": "execute_result"
    }
   ],
   "source": [
    "Fibonacci(1)"
   ]
  },
  {
   "cell_type": "markdown",
   "metadata": {},
   "source": [
    "  Recursive function to calculate the n factorial\n",
    "  \n",
    "  Example\n",
    "      \n",
    "      1!=1\n",
    "      2!=1*2=2\n",
    "      4!=4*3*2*1=24"
   ]
  },
  {
   "cell_type": "code",
   "execution_count": 2,
   "metadata": {},
   "outputs": [],
   "source": [
    "def FactorialRec(FactorialRange):\n",
    "    if FactorialRange==0:\n",
    "        return 1\n",
    "    else:\n",
    "        return (FactorialRange * FactorialRec(FactorialRange-1))\n"
   ]
  },
  {
   "cell_type": "code",
   "execution_count": 3,
   "metadata": {},
   "outputs": [
    {
     "data": {
      "text/plain": [
       "120"
      ]
     },
     "execution_count": 3,
     "metadata": {},
     "output_type": "execute_result"
    }
   ],
   "source": [
    "FactorialRec(5)"
   ]
  },
  {
   "cell_type": "markdown",
   "metadata": {},
   "source": [
    "Write a function fib() that takes an integer nn and returns the nnth Fibonacci ↴\n",
    "\n",
    "The Fibonacci series is a numerical series where each item is the sum of the two previous items. It starts off like this:\n",
    "\n",
    "0,1,1,2,3,5,8,13,21..."
   ]
  },
  {
   "cell_type": "code",
   "execution_count": 129,
   "metadata": {},
   "outputs": [],
   "source": [
    "FibonacciList=[0,1]\n",
    "def Fibonacciseries(FibonacciValue):\n",
    "    if(FibonacciValue==1):\n",
    "        return (FibonacciList[-2])\n",
    "    elif(FibonacciValue==2):\n",
    "        return (FibonacciList)\n",
    "    elif(len(FibonacciList) != FibonacciValue):\n",
    "        FibonacciList.append(FibonacciList[-1]+FibonacciList[-2])\n",
    "        return (Fibonacciseries(FibonacciValue))\n",
    "    return (FibonacciList)"
   ]
  },
  {
   "cell_type": "code",
   "execution_count": 130,
   "metadata": {},
   "outputs": [
    {
     "data": {
      "text/plain": [
       "[0, 1, 1, 2]"
      ]
     },
     "execution_count": 130,
     "metadata": {},
     "output_type": "execute_result"
    }
   ],
   "source": [
    "Fibonacciseries(4)"
   ]
  },
  {
   "cell_type": "code",
   "execution_count": 142,
   "metadata": {},
   "outputs": [
    {
     "name": "stdout",
     "output_type": "stream",
     "text": [
      "[0, 1, 0, 0, 0]   4\n",
      "1st IF  [0, 1, 0, 0, 0]   4\n",
      "[0, 1, 0, 0]   3\n",
      "1st IF  [0, 1, 0, 0]   3\n",
      "[0, 1, 0]   2\n",
      "2nd IF  [0, 1, 0]   2\n",
      "[0, 1]   0\n",
      "2nd IF  [0, 1, 0]   2\n",
      "1st IF  [0, 1, 1, 0]   3\n",
      "1st IF  [0, 1, 0, 2, 0]   4\n",
      "2nd IF  [0, 1, 0, 2, 0]   4\n",
      "[0, 1, 0]   2\n",
      "2nd IF  [0, 1, 0]   2\n",
      "[0, 1]   0\n",
      "2nd IF  [0, 1, 0]   2\n",
      "2nd IF  [0, 1, 1, 2, 0]   4\n",
      "3\n"
     ]
    }
   ],
   "source": [
    "# Fibonacci Series using Dynamic Programming\n",
    "def fibonacci(n):\n",
    "  \n",
    "    # Taking 1st two fibonacci nubers as 0 and 1\n",
    "    FibArray = [0, 1]\n",
    "   \n",
    "    while len(FibArray) < n + 1: \n",
    "        FibArray.append(0) \n",
    "    \n",
    "    print(FibArray,\" \",n)\n",
    "    if n <= 1:\n",
    "        return n\n",
    "    else:\n",
    "        if FibArray[n - 1] ==  0:\n",
    "            print(\"1st IF \",FibArray,\" \",n)\n",
    "            FibArray[n - 1] = fibonacci(n - 1)\n",
    "            print(\"1st IF \",FibArray,\" \",n)\n",
    "        if FibArray[n - 2] ==  0:\n",
    "            print(\"2nd IF \",FibArray,\" \",n)\n",
    "            FibArray[n - 2] = fibonacci(n - 2)\n",
    "            print(\"2nd IF \",FibArray,\" \",n)\n",
    "        FibArray[n] = FibArray[n - 2] + FibArray[n - 1]\n",
    "    return FibArray[n]\n",
    "     \n",
    "    \n",
    "print(fibonacci(4))"
   ]
  },
  {
   "cell_type": "markdown",
   "metadata": {},
   "source": [
    "We add a Leap Day on February 29, almost every four years. The leap day is an extra, or intercalary day and we add it to the shortest month of the year, February. \n",
    "In the Gregorian calendar three criteria must be taken into account to identify leap years:\n",
    "\n",
    "The year can be evenly divided by 4, is a leap year, unless:\n",
    "The year can be evenly divided by 100, it is NOT a leap year, unless:\n",
    "The year is also evenly divisible by 400. Then it is a leap year.\n",
    "This means that in the Gregorian calendar, the years 2000 and 2400 are leap years, while 1800, 1900, 2100, 2200, 2300 and 2500 are NOT leap years.Source\n",
    "\n",
    "Task \n",
    "You are given the year, and you have to write a function to check if the year is leap or not.\n",
    "\n",
    "Note that you have to complete the function and remaining code is given as template.\n",
    "\n",
    "Input Format\n",
    "\n",
    "Read y, the year that needs to be checked.\n",
    "\n",
    "Constraints\n",
    "\n",
    "\n",
    "Output Format\n",
    "\n",
    "Output is taken care of by the template. Your function must return a boolean value (True/False)\n",
    "\n",
    "Sample Input 0\n",
    "\n",
    "1990\n",
    "\n",
    "Sample Output 0\n",
    "\n",
    "False"
   ]
  },
  {
   "cell_type": "code",
   "execution_count": 38,
   "metadata": {},
   "outputs": [],
   "source": [
    "def is_leap(year):\n",
    "    if (year >= 1900) and (year <= 100000):\n",
    "        if(year % 4 ==0) and (year % 100 ==0) and (year % 400 ==0):\n",
    "            return (True)\n",
    "        elif(year % 4 ==0) and (year % 100 !=0):\n",
    "            return (True)\n",
    "        else:\n",
    "            return (False)\n",
    "    else:\n",
    "        print (\"not a valid year\")"
   ]
  },
  {
   "cell_type": "code",
   "execution_count": 33,
   "metadata": {},
   "outputs": [
    {
     "name": "stdout",
     "output_type": "stream",
     "text": [
      "2000 is a leap year: -> True\n",
      "2400 is a leap year: -> True\n",
      "not a valid year\n",
      "1800 is a leap year: -> None\n",
      "1900 is a leap year: -> False\n",
      "2100 is a leap year: -> False\n",
      "2000 is a leap year: -> False\n",
      "2000 is a leap year: -> False\n",
      "2000 is a leap year: -> False\n"
     ]
    }
   ],
   "source": [
    "print (\"2000 is a leap year: ->\",is_leap(2000))\n",
    "print (\"2400 is a leap year: ->\",is_leap(2400))\n",
    "print (\"1800 is a leap year: ->\",is_leap(1800))\n",
    "print (\"1900 is a leap year: ->\",is_leap(1900))\n",
    "print (\"2100 is a leap year: ->\",is_leap(2100))\n",
    "print (\"2000 is a leap year: ->\",is_leap(2200))\n",
    "print (\"2000 is a leap year: ->\",is_leap(2300))\n",
    "print (\"2000 is a leap year: ->\",is_leap(2500))"
   ]
  },
  {
   "cell_type": "markdown",
   "metadata": {},
   "source": [
    "https://www.hackerrank.com/challenges/the-minion-game/problem\n",
    "\n",
    "Kevin and Stuart want to play the 'The Minion Game'.\n",
    "\n",
    "Game Rules\n",
    "\n",
    "Both players are given the same string, .\n",
    "Both players have to make substrings using the letters of the string .\n",
    "Stuart has to make words starting with consonants.\n",
    "Kevin has to make words starting with vowels. \n",
    "The game ends when both players have made all possible substrings. \n",
    "\n",
    "Scoring\n",
    "A player gets +1 point for each occurrence of the substring in the string .\n",
    "\n",
    "For Example:\n",
    "String  = BANANA\n",
    "Kevin's vowel beginning word = ANA\n",
    "Here, ANA occurs twice in BANANA. Hence, Kevin will get 2 Points. \n",
    "\n",
    "For better understanding, see the image below: \n",
    "\n",
    "banana.png\n",
    "\n",
    "Your task is to determine the winner of the game and their score.\n",
    "\n",
    "Input Format\n",
    "\n",
    "A single line of input containing the string . \n",
    "Note: The string  will contain only uppercase letters: .\n",
    "\n",
    "Constraints\n",
    "\n",
    "\n",
    "\n",
    "Output Format\n",
    "\n",
    "Print one line: the name of the winner and their score separated by a space.\n",
    "\n",
    "If the game is a draw, print Draw."
   ]
  },
  {
   "cell_type": "code",
   "execution_count": 81,
   "metadata": {},
   "outputs": [],
   "source": [
    "def minion_game(string):\n",
    "    Stuart=0\n",
    "    Kevin=0\n",
    "    vowels=['A','E','I','O','U']\n",
    "    substringLen=len(string)\n",
    "    allStr = []\n",
    "    for i in range(0,substringLen):\n",
    "        if i == 0:\n",
    "            for j in range(0,substringLen):\n",
    "                allStr.append(string[j])\n",
    "        else:\n",
    "            stringtupule = (substringLen - (i+1))+1\n",
    "            for j in range(0,stringtupule):\n",
    "                substr=string[j:j+i+1]\n",
    "                allStr.append(substr)\n",
    "    subStrDict = {x:allStr.count(x) for x in allStr}\n",
    "    for subStr in subStrDict.keys():\n",
    "        if subStr[0] in vowels:\n",
    "            Kevin += subStrDict[subStr]\n",
    "        else:\n",
    "            Stuart += subStrDict[subStr]\n",
    "    if (Kevin < Stuart):\n",
    "        print \"Stuart\",Stuart\n",
    "    elif(Kevin > Stuart):\n",
    "        print \"Kevin\",Kevin\n",
    "    else:\n",
    "        print 'Draw'"
   ]
  },
  {
   "cell_type": "code",
   "execution_count": 82,
   "metadata": {},
   "outputs": [
    {
     "name": "stdout",
     "output_type": "stream",
     "text": [
      "Stuart 12\n",
      "Kevin 19\n",
      "Kevin 12\n",
      "Draw\n",
      "Kevin 2601\n"
     ]
    }
   ],
   "source": [
    "minion_game(\"BANANA\")\n",
    "minion_game('BAANANAS')\n",
    "minion_game('ANANAS')\n",
    "minion_game('BANANANAAAS')\n",
    "minion_game('ABABABABABABABABABABABABABABABABABABABABABABABABABABABABABABABABABABABABABABABABABABABABABABABABABABA')"
   ]
  },
  {
   "cell_type": "markdown",
   "metadata": {},
   "source": [
    "You and Fredrick are good friends. Yesterday, Fredrick received  credit cards from ABCD Bank. He wants to verify whether his credit card numbers are valid or not. You happen to be great at regex so he is asking for your help!\n",
    "\n",
    "A valid credit card from ABCD Bank has the following characteristics: \n",
    "\n",
    "► It must start with a ,  or . \n",
    "► It must contain exactly  digits. \n",
    "► It must only consist of digits (-). \n",
    "► It may have digits in groups of , separated by one hyphen \"-\". \n",
    "► It must NOT use any other separator like ' ' , '_', etc. \n",
    "► It must NOT have  or more consecutive repeated digits.\n",
    "\n",
    "Examples:\n",
    "\n",
    "Valid Credit Card Numbers\n",
    "\n",
    "4253625879615786\n",
    "\n",
    "4424424424442444\n",
    "\n",
    "5122-2368-7954-3214\n",
    "\n",
    "Invalid Credit Card Numbers\n",
    "\n",
    "\n",
    "42536258796157867       #17 digits in card number → Invalid \n",
    "\n",
    "4424444424442444        #Consecutive digits are repeating 4 or more times → Invalid\n",
    "\n",
    "5122-2368-7954 - 3214   #Separators other than '-' are used → Invalid\n",
    "\n",
    "44244x4424442444        #Contains non digit characters → Invalid\n",
    "\n",
    "0525362587961578        #Doesn't start with 4, 5 or 6 → Invalid\n",
    "\n",
    "Input Format\n",
    "\n",
    "The first line of input contains an integer . \n",
    "The next  lines contain credit card numbers.\n",
    "\n",
    "Constraints\n",
    "\n",
    "\n",
    "Output Format\n",
    "\n",
    "Print 'Valid' if the credit card number is valid. Otherwise, print 'Invalid'. Do not print the quotes.\n",
    "\n",
    "Sample Input\n",
    "\n",
    "\n",
    "6\n",
    "\n",
    "4123456789123456\n",
    "\n",
    "5123-4567-8912-3456\n",
    "\n",
    "61234-567-8912-3456\n",
    "\n",
    "4123356789123456\n",
    "\n",
    "5133-3367-8912-3456\n",
    "\n",
    "5123 - 3567 - 8912 - 3456\n",
    "\n",
    "Sample Output\n",
    "\n",
    "\n",
    "Valid\n",
    "Valid\n",
    "Invalid\n",
    "Valid\n",
    "Invalid\n",
    "Invalid\n",
    "Explanation\n",
    "\n",
    "4123456789123456 : Valid \n",
    "5123-4567-8912-3456 : Valid \n",
    "61234--8912-3456 : Invalid, because the card number is not divided into equal groups of . \n",
    "4123356789123456 : Valid \n",
    "51-67-8912-3456 : Invalid, consecutive digits  is repeating  times. \n",
    "5123456789123456 : Invalid, because space '  ' and - are used as separators."
   ]
  },
  {
   "cell_type": "code",
   "execution_count": 4,
   "metadata": {},
   "outputs": [],
   "source": [
    "import re\n",
    "def ValidatingCreditCardNumbers(number):\n",
    "    number=str(number)\n",
    "    m = re.search('(^[0-9]{16})|([0-9]{4}-[0-9]{4}-[0-9]{4}-[0-9]{4})', number)\n",
    "    if m:\n",
    "        firstnumber=number[0]\n",
    "        if firstnumber == '4' or firstnumber == '5' or firstnumber == '6':\n",
    "            number=number.replace(\"-\",\"\")\n",
    "            dummyFlag=0\n",
    "            for i in range(0,13):\n",
    "                substr=number[i+1:i+4]\n",
    "                checkRep=substr.count(number[i])\n",
    "                if(checkRep==3):\n",
    "                    print 'Invalid'\n",
    "                    dummyFlag=1\n",
    "                    break\n",
    "            if dummyFlag!=1:\n",
    "                print 'Valid'\n",
    "        else:\n",
    "            print 'Invalid'\n",
    "        \n",
    "    else:\n",
    "        print 'Invalid'\n",
    "    "
   ]
  },
  {
   "cell_type": "code",
   "execution_count": 5,
   "metadata": {},
   "outputs": [
    {
     "name": "stdout",
     "output_type": "stream",
     "text": [
      "Valid\n"
     ]
    }
   ],
   "source": [
    "ValidatingCreditCardNumbers(4423456789123456)"
   ]
  },
  {
   "cell_type": "code",
   "execution_count": 6,
   "metadata": {},
   "outputs": [
    {
     "name": "stdout",
     "output_type": "stream",
     "text": [
      "Valid\n",
      "Invalid\n",
      "Invalid\n",
      "Invalid\n"
     ]
    }
   ],
   "source": [
    "ValidatingCreditCardNumbers('5123-4567-8912-3456')\n",
    "ValidatingCreditCardNumbers('61234-567-8912-3456')\n",
    "ValidatingCreditCardNumbers('5133-3367-8912-3456')\n",
    "ValidatingCreditCardNumbers('5123 - 3567 - 8912 - 3456')"
   ]
  },
  {
   "cell_type": "code",
   "execution_count": 15,
   "metadata": {},
   "outputs": [],
   "source": [
    "f=5123 - 3567 - 8912 - 3456"
   ]
  },
  {
   "cell_type": "code",
   "execution_count": 49,
   "metadata": {},
   "outputs": [],
   "source": [
    "def merge_the_tools(string, k):\n",
    "    for i in range(0,len(string),k):\n",
    "        substr=string[i:i+k]\n",
    "        uniqsubstr=''.join(sorted(set(substr), key=substr.index))\n",
    "        print uniqsubstr"
   ]
  },
  {
   "cell_type": "code",
   "execution_count": 50,
   "metadata": {},
   "outputs": [
    {
     "name": "stdout",
     "output_type": "stream",
     "text": [
      "KYQTWXDLINFBHRGZVCUSAMOEPJ\n",
      "YUGTZIWNVSALBXOCDMPFEKJRQH\n"
     ]
    }
   ],
   "source": [
    "merge_the_tools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
   ]
  },
  {
   "cell_type": "code",
   "execution_count": 42,
   "metadata": {},
   "outputs": [
    {
     "data": {
      "text/plain": [
       "'DIKLNQTWYX'"
      ]
     },
     "execution_count": 42,
     "metadata": {},
     "output_type": "execute_result"
    }
   ],
   "source": [
    "\"\".join(set('KYQYTWXTDQXWDLKIXNW'))"
   ]
  },
  {
   "cell_type": "code",
   "execution_count": 48,
   "metadata": {},
   "outputs": [
    {
     "name": "stdout",
     "output_type": "stream",
     "text": [
      "<built-in method index of str object at 0x0000000004C2B8A0>\n"
     ]
    },
    {
     "data": {
      "text/plain": [
       "'mpt'"
      ]
     },
     "execution_count": 48,
     "metadata": {},
     "output_type": "execute_result"
    }
   ],
   "source": [
    "foo = 'mppmt'\n",
    "key=foo.index\n",
    "print key\n",
    "''.join(sorted(set(foo), key=foo.index))"
   ]
  },
  {
   "cell_type": "code",
   "execution_count": null,
   "metadata": {},
   "outputs": [],
   "source": []
  }
 ],
 "metadata": {
  "kernelspec": {
   "display_name": "Python 2",
   "language": "python",
   "name": "python2"
  },
  "language_info": {
   "codemirror_mode": {
    "name": "ipython",
    "version": 2
   },
   "file_extension": ".py",
   "mimetype": "text/x-python",
   "name": "python",
   "nbconvert_exporter": "python",
   "pygments_lexer": "ipython2",
   "version": "2.7.14"
  }
 },
 "nbformat": 4,
 "nbformat_minor": 2
}
