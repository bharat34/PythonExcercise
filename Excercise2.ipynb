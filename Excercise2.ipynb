{
 "cells": [
  {
   "cell_type": "markdown",
   "metadata": {},
   "source": [
    "https://www.codementor.io/sheena/essential-python-interview-questions-du107ozr6"
   ]
  },
  {
   "cell_type": "markdown",
   "metadata": {},
   "source": [
    "def print_directory_contents(sPath):\n",
    "    \"\"\"\n",
    "    This function takes the name of a directory \n",
    "    and prints out the paths files within that \n",
    "    directory as well as any files contained in \n",
    "    contained directories. \n",
    "\n",
    "    This function is similar to os.walk. Please don't\n",
    "    use os.walk in your answer. We are interested in your \n",
    "    ability to work with nested structures. \n",
    "    \"\"\"\n",
    "    fill_this_in"
   ]
  },
  {
   "cell_type": "code",
   "execution_count": 76,
   "metadata": {},
   "outputs": [],
   "source": [
    "def print_directory_contents(sPath):\n",
    "    import os                                       \n",
    "    for sChild in os.listdir(sPath):                \n",
    "        sChildPath = os.path.join(sPath,sChild)\n",
    "        if os.path.isdir(sChildPath):\n",
    "            print_directory_contents(sChildPath)\n",
    "        else:\n",
    "            print(sChildPath)"
   ]
  },
  {
   "cell_type": "markdown",
   "metadata": {},
   "source": [
    "Question 3\n",
    "\n",
    "Looking at the below code, write down the final values of A0, A1, ...An.\n",
    "\n",
    "zip(...)\n",
    "    zip(seq1 [, seq2 [...]]) -> [(seq1[0], seq2[0] ...), (...)]\n",
    "    \n",
    "    Return a list of tuples, where each tuple contains the i-th element\n",
    "    from each of the argument sequences.  The returned list is truncated\n",
    "    in length to the length of the shortest argument sequence."
   ]
  },
  {
   "cell_type": "code",
   "execution_count": 33,
   "metadata": {},
   "outputs": [
    {
     "name": "stdout",
     "output_type": "stream",
     "text": [
      "A1:  range(0, 10)\n",
      "A3:  [1, 2, 3, 4, 5]\n",
      "A4:  [1, 2, 3, 4, 5]\n",
      "A5:  {0: 0, 1: 1, 2: 4, 3: 9, 4: 16, 5: 25, 6: 36, 7: 49, 8: 64, 9: 81}\n",
      "A6:  [[0, 0], [1, 1], [2, 4], [3, 9], [4, 16], [5, 25], [6, 36], [7, 49], [8, 64], [9, 81]]\n"
     ]
    }
   ],
   "source": [
    "A0 = dict(zip(('a','b','c','d','e'),(1,2,3,4,5)))\n",
    "A1 = range(10)\n",
    "A2 = sorted([i for i in A1 if i in A0])\n",
    "print (\"A1: \",A1)\n",
    "A3 = sorted([A0[s] for s in A0])\n",
    "print (\"A3: \",A3)\n",
    "A4 = [i for i in A1 if i in A3]\n",
    "print (\"A4: \",A4)\n",
    "A5 = {i:i*i for i in A1}\n",
    "print (\"A5: \",A5)\n",
    "A6 = [[i,i*i] for i in A1]\n",
    "print (\"A6: \",A6)"
   ]
  },
  {
   "cell_type": "markdown",
   "metadata": {},
   "source": [
    "https://github.com/zhiwehu/Python-programming-exercises/blob/master/100%2B%20Python%20challenging%20programming%20exercises.txt"
   ]
  },
  {
   "cell_type": "markdown",
   "metadata": {},
   "source": [
    "#----------------------------------------#\n",
    "\n",
    "Question 2\n",
    "\n",
    "Level 1\n",
    "\n",
    "Question:\n",
    "\n",
    "Write a program which can compute the factorial of a given numbers.\n",
    "The results should be printed in a comma-separated sequence on a single line.\n",
    "\n",
    "Suppose the following input is supplied to the program:\n",
    "8\n",
    "\n",
    "Then, the output should be:\n",
    "40320"
   ]
  },
  {
   "cell_type": "code",
   "execution_count": 7,
   "metadata": {},
   "outputs": [],
   "source": [
    "def fact1(x):\n",
    "    if x == 0:\n",
    "        return 1\n",
    "    return x * fact(x - 1)"
   ]
  },
  {
   "cell_type": "code",
   "execution_count": 8,
   "metadata": {},
   "outputs": [
    {
     "data": {
      "text/plain": [
       "120"
      ]
     },
     "execution_count": 8,
     "metadata": {},
     "output_type": "execute_result"
    }
   ],
   "source": [
    "fact1(5)"
   ]
  },
  {
   "cell_type": "code",
   "execution_count": 35,
   "metadata": {},
   "outputs": [],
   "source": [
    "def fact2(x):\n",
    "    fact=1\n",
    "    if x == 0:\n",
    "        return 1\n",
    "    for i in range(x,1,-1):\n",
    "        fact *=i\n",
    "    return (fact)"
   ]
  },
  {
   "cell_type": "code",
   "execution_count": 47,
   "metadata": {},
   "outputs": [
    {
     "data": {
      "text/plain": [
       "24"
      ]
     },
     "execution_count": 47,
     "metadata": {},
     "output_type": "execute_result"
    }
   ],
   "source": [
    "fact2(4)"
   ]
  },
  {
   "cell_type": "markdown",
   "metadata": {},
   "source": [
    "----------------------------------------#\n",
    "\n",
    "Question:\n",
    "\n",
    "\n",
    "Write a program to solve a classic ancient Chinese puzzle: \n",
    "We count 35 heads and 94 legs among the chickens and rabbits in a farm. How many rabbits and how many chickens do we have?\n",
    "\n",
    "Hint:\n",
    "\n",
    "Use for loop to iterate all possible solutions.\n"
   ]
  },
  {
   "cell_type": "code",
   "execution_count": 48,
   "metadata": {},
   "outputs": [],
   "source": [
    "def solve(numheads,numlegs):\n",
    "    ns='No solutions!'\n",
    "    for i in range(numheads+1):\n",
    "        j=numheads-i\n",
    "        if 2*i+4*j==numlegs:\n",
    "            return i,j\n",
    "    return ns,ns\n",
    "\n",
    "numheads=35\n",
    "numlegs=94"
   ]
  },
  {
   "cell_type": "code",
   "execution_count": 46,
   "metadata": {},
   "outputs": [
    {
     "name": "stdout",
     "output_type": "stream",
     "text": [
      "(23, 12)\n"
     ]
    }
   ],
   "source": [
    "solutions=solve(numheads,numlegs)\n",
    "print (solutions)"
   ]
  },
  {
   "cell_type": "code",
   "execution_count": 74,
   "metadata": {},
   "outputs": [],
   "source": [
    "def solve2(numheads,numlegs):\n",
    "    ns='No solutions!'\n",
    "    for i in range(numheads):\n",
    "        if ((numlegs-(4*i))%2) == 0:\n",
    "            j = ((numlegs-(4*i))/2)\n",
    "            if( (j+i) == numheads):\n",
    "                 return i,j\n",
    "    return ns,ns"
   ]
  },
  {
   "cell_type": "code",
   "execution_count": 75,
   "metadata": {},
   "outputs": [
    {
     "data": {
      "text/plain": [
       "(12, 23.0)"
      ]
     },
     "execution_count": 75,
     "metadata": {},
     "output_type": "execute_result"
    }
   ],
   "source": [
    "numheads=35\n",
    "numlegs=94\n",
    "solve2(numheads,numlegs)"
   ]
  },
  {
   "cell_type": "markdown",
   "metadata": {},
   "source": [
    "5.1.4. Nested List Comprehensions\n",
    "\n",
    "The initial expression in a list comprehension can be any arbitrary expression, including another list comprehension.\n",
    "\n",
    "Consider the following example of a 3x4 matrix implemented as a list of 3 lists of length 4:"
   ]
  },
  {
   "cell_type": "code",
   "execution_count": 20,
   "metadata": {},
   "outputs": [],
   "source": [
    " matrix = [\n",
    "...     [1, 2, 3, 4],\n",
    "...     [5, 6, 7, 8],\n",
    "...     [9, 10, 11, 12],\n",
    "... ]"
   ]
  },
  {
   "cell_type": "code",
   "execution_count": 31,
   "metadata": {},
   "outputs": [],
   "source": [
    "def transpose_ver1(matrix):\n",
    "    transposed = [[row[i] for row in matrix] for i in range(4)]\n",
    "    return (transposed)"
   ]
  },
  {
   "cell_type": "code",
   "execution_count": 32,
   "metadata": {},
   "outputs": [],
   "source": [
    "transposed = []\n",
    "def transpose_ver2(matrix):\n",
    "    for i in range(4):\n",
    "        # the following 3 lines implement the nested listcomp\n",
    "        transposed_row = []\n",
    "        for row in matrix:\n",
    "            transposed_row.append(row[i] )\n",
    "        transposed.append(transposed_row)\n",
    "    return (transposed)"
   ]
  },
  {
   "cell_type": "code",
   "execution_count": 33,
   "metadata": {},
   "outputs": [
    {
     "data": {
      "text/plain": [
       "[[1, 5, 9], [2, 6, 10], [3, 7, 11], [4, 8, 12]]"
      ]
     },
     "execution_count": 33,
     "metadata": {},
     "output_type": "execute_result"
    }
   ],
   "source": [
    "transpose_ver1(matrix)"
   ]
  },
  {
   "cell_type": "code",
   "execution_count": 30,
   "metadata": {},
   "outputs": [
    {
     "data": {
      "text/plain": [
       "[[1, 5, 9], [2, 6, 10], [3, 7, 11], [4, 8, 12]]"
      ]
     },
     "execution_count": 30,
     "metadata": {},
     "output_type": "execute_result"
    }
   ],
   "source": [
    "transpose_ver2(matrix)"
   ]
  },
  {
   "cell_type": "code",
   "execution_count": 85,
   "metadata": {},
   "outputs": [],
   "source": [
    "transposed = []\n",
    "def transpose_ver3(matrix):\n",
    "    transposed = [[0 for i in range(len(matrix) ) ] for j in range(len(matrix[0]) ) ]\n",
    "    for i in range(len(matrix[0]) ):\n",
    "        for j in range(len(matrix )):\n",
    "            transposed[i][j] = matrix[j][i]\n",
    "    return(transposed)\n",
    "        "
   ]
  },
  {
   "cell_type": "code",
   "execution_count": 86,
   "metadata": {},
   "outputs": [
    {
     "data": {
      "text/plain": [
       "[[1, 5, 9], [2, 6, 10], [3, 7, 11], [4, 8, 12]]"
      ]
     },
     "execution_count": 86,
     "metadata": {},
     "output_type": "execute_result"
    }
   ],
   "source": [
    "transpose_ver3(matrix)"
   ]
  },
  {
   "cell_type": "markdown",
   "metadata": {},
   "source": [
    "Question:\n",
    "\n",
    "Please write a program which accepts a string from console and print the characters that have even indexes.\n",
    "\n",
    "Example:\n",
    "If the following string is given as input to the program:\n",
    "\n",
    "H1e2l3l4o5w6o7r8l9d\n",
    "\n",
    "Then, the output of the program should be:\n",
    "\n",
    "Helloworld"
   ]
  },
  {
   "cell_type": "code",
   "execution_count": 19,
   "metadata": {},
   "outputs": [],
   "source": [
    "def identifyChar(inputStr):\n",
    "    letters = \"abcdefghijklmnopqrstuvwxyzABCDEFGHIJKLMNOPQRSTUVWXYZ\"\n",
    "    return (''.join([i for i in inputStr if i in letters]))"
   ]
  },
  {
   "cell_type": "code",
   "execution_count": 20,
   "metadata": {},
   "outputs": [
    {
     "data": {
      "text/plain": [
       "'Helloworld'"
      ]
     },
     "execution_count": 20,
     "metadata": {},
     "output_type": "execute_result"
    }
   ],
   "source": [
    "identifyChar('H1e2l3l4o5w6o7r8l9d')"
   ]
  },
  {
   "cell_type": "code",
   "execution_count": 34,
   "metadata": {},
   "outputs": [
    {
     "data": {
      "text/plain": [
       "'321321321halbhalb'"
      ]
     },
     "execution_count": 34,
     "metadata": {},
     "output_type": "execute_result"
    }
   ],
   "source": [
    "checked = \"blahblah123123123\"\n",
    "checked[::-1]"
   ]
  },
  {
   "cell_type": "markdown",
   "metadata": {},
   "source": [
    "#----------------------------------------#\n",
    "\n",
    "Question:\n",
    "\n",
    "\n",
    "With two given lists [1,3,6,78,35,55] and [12,24,35,24,88,120,155], write a program to make a list whose elements are intersection of the above given lists.\n",
    "\n",
    "\n",
    "Hints:\n",
    "Use set() and \"&=\" to do set intersection operation.\n",
    "\n",
    "\n",
    "Solution:\n",
    "\n",
    "\n",
    "set1=set([1,3,6,78,35,55])\n",
    "\n",
    "set2=set([12,24,35,24,88,120,155])\n",
    "\n",
    "set1 &= set2\n",
    "\n",
    "li=list(set1)\n",
    "\n",
    "print li"
   ]
  },
  {
   "cell_type": "code",
   "execution_count": 37,
   "metadata": {},
   "outputs": [],
   "source": [
    "def interSectingLists(list1,list2):\n",
    "    return ([i for i in list1 if i in list2])"
   ]
  },
  {
   "cell_type": "code",
   "execution_count": 39,
   "metadata": {},
   "outputs": [
    {
     "data": {
      "text/plain": [
       "[35]"
      ]
     },
     "execution_count": 39,
     "metadata": {},
     "output_type": "execute_result"
    }
   ],
   "source": [
    "interSectingLists([1,3,6,78,35,55],[12,24,35,24,88,120,155])"
   ]
  },
  {
   "cell_type": "markdown",
   "metadata": {},
   "source": [
    "#----------------------------------------#\n",
    "\n",
    "Question:\n",
    "\n",
    "By using list comprehension, please write a program to print the list after removing the value 24 in [12,24,35,24,88,120,155].\n",
    "\n",
    "Hints:\n",
    "Use list's remove method to delete a value."
   ]
  },
  {
   "cell_type": "code",
   "execution_count": 47,
   "metadata": {},
   "outputs": [],
   "source": [
    "def deleteDuplicates(list1):\n",
    "    list2=[]\n",
    "    for i in list1:\n",
    "        if i not in list2:\n",
    "            list2.append(i)\n",
    "    return(list2)"
   ]
  },
  {
   "cell_type": "code",
   "execution_count": 49,
   "metadata": {},
   "outputs": [
    {
     "data": {
      "text/plain": [
       "[1, 3, 4]"
      ]
     },
     "execution_count": 49,
     "metadata": {},
     "output_type": "execute_result"
    }
   ],
   "source": [
    "deleteDuplicates([1,1,3,4,1,3])"
   ]
  },
  {
   "cell_type": "markdown",
   "metadata": {},
   "source": [
    "#----------------------------------------#\n",
    "\n",
    "Question:\n",
    "\n",
    "\n",
    "By using list comprehension, please write a program to print the list after removing the 0th,4th,5th numbers in [12,24,35,70,88,120,155].\n",
    "\n",
    "\n",
    "Hints:\n",
    "Use list comprehension to delete a bunch of element from a list.\n",
    "Use enumerate() to get (index, value) tuple.\n",
    "\n",
    "\n",
    "Solution:\n",
    "\n",
    "\n",
    "li = [12,24,35,70,88,120,155]\n",
    "\n",
    "li = [x for (i,x) in enumerate(li) if i not in (0,4,5)]\n",
    "\n",
    "print li"
   ]
  },
  {
   "cell_type": "code",
   "execution_count": 56,
   "metadata": {},
   "outputs": [],
   "source": [
    "def takeSubList(mylist,elementIndexToExclude):\n",
    "    return ([x for (i,x) in enumerate(li) if i not in elementIndexToExclude])"
   ]
  },
  {
   "cell_type": "code",
   "execution_count": 57,
   "metadata": {},
   "outputs": [
    {
     "data": {
      "text/plain": [
       "[24, 35, 70, 155]"
      ]
     },
     "execution_count": 57,
     "metadata": {},
     "output_type": "execute_result"
    }
   ],
   "source": [
    "mylist = [12,24,35,70,88,120,155]\n",
    "elementIndexToExclude = (0,4,5)\n",
    "takeSubList(mylist,elementIndexToExclude)"
   ]
  }
 ],
 "metadata": {
  "kernelspec": {
   "display_name": "Python 3",
   "language": "python",
   "name": "python3"
  },
  "language_info": {
   "codemirror_mode": {
    "name": "ipython",
    "version": 3
   },
   "file_extension": ".py",
   "mimetype": "text/x-python",
   "name": "python",
   "nbconvert_exporter": "python",
   "pygments_lexer": "ipython3",
   "version": "3.6.8"
  }
 },
 "nbformat": 4,
 "nbformat_minor": 2
}
